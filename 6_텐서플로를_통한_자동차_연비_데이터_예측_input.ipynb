{
  "nbformat": 4,
  "nbformat_minor": 0,
  "metadata": {
    "kernelspec": {
      "display_name": "Python 3",
      "language": "python",
      "name": "python3"
    },
    "language_info": {
      "codemirror_mode": {
        "name": "ipython",
        "version": 3
      },
      "file_extension": ".py",
      "mimetype": "text/x-python",
      "name": "python",
      "nbconvert_exporter": "python",
      "pygments_lexer": "ipython3",
      "version": "3.7.6"
    },
    "toc": {
      "base_numbering": 1,
      "nav_menu": {},
      "number_sections": true,
      "sideBar": true,
      "skip_h1_title": false,
      "title_cell": "Table of Contents",
      "title_sidebar": "Contents",
      "toc_cell": false,
      "toc_position": {},
      "toc_section_display": true,
      "toc_window_display": false
    },
    "varInspector": {
      "cols": {
        "lenName": 16,
        "lenType": 16,
        "lenVar": 40
      },
      "kernels_config": {
        "python": {
          "delete_cmd_postfix": "",
          "delete_cmd_prefix": "del ",
          "library": "var_list.py",
          "varRefreshCmd": "print(var_dic_list())"
        },
        "r": {
          "delete_cmd_postfix": ") ",
          "delete_cmd_prefix": "rm(",
          "library": "var_list.r",
          "varRefreshCmd": "cat(var_dic_list()) "
        }
      },
      "types_to_exclude": [
        "module",
        "function",
        "builtin_function_or_method",
        "instance",
        "_Feature"
      ],
      "window_display": false
    },
    "colab": {
      "name": "6. 텐서플로를 통한 자동차 연비 데이터 예측-input.ipynb",
      "provenance": [],
      "collapsed_sections": [],
      "include_colab_link": true
    }
  },
  "cells": [
    {
      "cell_type": "markdown",
      "metadata": {
        "id": "view-in-github",
        "colab_type": "text"
      },
      "source": [
        "<a href=\"https://colab.research.google.com/github/SEJUNTONY/Data_Science_BoostCourse/blob/main/6_%ED%85%90%EC%84%9C%ED%94%8C%EB%A1%9C%EB%A5%BC_%ED%86%B5%ED%95%9C_%EC%9E%90%EB%8F%99%EC%B0%A8_%EC%97%B0%EB%B9%84_%EB%8D%B0%EC%9D%B4%ED%84%B0_%EC%98%88%EC%B8%A1_input.ipynb\" target=\"_parent\"><img src=\"https://colab.research.google.com/assets/colab-badge.svg\" alt=\"Open In Colab\"/></a>"
      ]
    },
    {
      "cell_type": "markdown",
      "metadata": {
        "id": "nfLVq_fVbiu4"
      },
      "source": [
        "## 텐서플로를 통한 자동차 연비 예측하기\n",
        "* 참고 : [자동차 연비 예측하기: 회귀  |  TensorFlow Core](https://www.tensorflow.org/tutorials/keras/regression)"
      ]
    },
    {
      "cell_type": "markdown",
      "metadata": {
        "id": "vyNd3kXxbiu7"
      },
      "source": [
        "## 필요 도구 가져오기"
      ]
    },
    {
      "cell_type": "code",
      "metadata": {
        "id": "ZB1E3WW3biu8"
      },
      "source": [
        "# 데이터 분석을 위한 pandas, 시각화를 위한 seaborn 불러오기\n",
        "import pandas as pd\n",
        "import seaborn as sns"
      ],
      "execution_count": 44,
      "outputs": []
    },
    {
      "cell_type": "markdown",
      "metadata": {
        "id": "cbeG8E1obiu9"
      },
      "source": [
        "## 데이터셋 로드"
      ]
    },
    {
      "cell_type": "code",
      "metadata": {
        "id": "20jwBWCxbiu_",
        "colab": {
          "base_uri": "https://localhost:8080/"
        },
        "outputId": "4409d489-91fe-43ac-aa69-f66d2636d5fe"
      },
      "source": [
        "# 자동차연비 데이터셋인 mpg 데이터셋을 불러옵니다.\n",
        "df = sns.load_dataset(\"mpg\")\n",
        "df.shape"
      ],
      "execution_count": 45,
      "outputs": [
        {
          "output_type": "execute_result",
          "data": {
            "text/plain": [
              "(398, 9)"
            ]
          },
          "metadata": {},
          "execution_count": 45
        }
      ]
    },
    {
      "cell_type": "markdown",
      "metadata": {
        "id": "0n-cji38biu_"
      },
      "source": [
        "## 결측치 확인"
      ]
    },
    {
      "cell_type": "code",
      "metadata": {
        "id": "_k4lv7wPbivA",
        "colab": {
          "base_uri": "https://localhost:8080/"
        },
        "outputId": "d8f2da45-38cf-4877-9545-419662443f11"
      },
      "source": [
        "# 결측치의 합계 구하기\n",
        "df.isnull().sum()"
      ],
      "execution_count": 46,
      "outputs": [
        {
          "output_type": "execute_result",
          "data": {
            "text/plain": [
              "mpg             0\n",
              "cylinders       0\n",
              "displacement    0\n",
              "horsepower      6\n",
              "weight          0\n",
              "acceleration    0\n",
              "model_year      0\n",
              "origin          0\n",
              "name            0\n",
              "dtype: int64"
            ]
          },
          "metadata": {},
          "execution_count": 46
        }
      ]
    },
    {
      "cell_type": "markdown",
      "metadata": {
        "id": "5FdrtH0UbivB"
      },
      "source": [
        "## 결측치 제거"
      ]
    },
    {
      "cell_type": "code",
      "metadata": {
        "id": "i7pD7C-QbivC",
        "colab": {
          "base_uri": "https://localhost:8080/"
        },
        "outputId": "be21b131-fe7f-4091-f0b3-e7732839d9d3"
      },
      "source": [
        "# dropna로 결측치를 제거합니다.\n",
        "df = df.dropna()\n",
        "df.shape"
      ],
      "execution_count": 47,
      "outputs": [
        {
          "output_type": "execute_result",
          "data": {
            "text/plain": [
              "(392, 9)"
            ]
          },
          "metadata": {},
          "execution_count": 47
        }
      ]
    },
    {
      "cell_type": "markdown",
      "metadata": {
        "id": "rM7zgJWgbivD"
      },
      "source": [
        "## 수치 데이터만 가져오기\n",
        "* 머신러닝이나 딥러닝 모델은 내부에서 수치계산을 하기 때문에 숫자가 아닌 데이터를 넣어주면 모델이 학습과 예측을 할 수 없습니다."
      ]
    },
    {
      "cell_type": "code",
      "metadata": {
        "id": "QhkyfbLHbivE",
        "colab": {
          "base_uri": "https://localhost:8080/"
        },
        "outputId": "ecbaadb1-8c99-4112-d5ed-90757feb2435"
      },
      "source": [
        "# select_dtypes 를 통해 object 타입을 제외하고 가져옵니다.\n",
        "df = df.select_dtypes(exclude=\"object\")\n",
        "df.shape"
      ],
      "execution_count": 48,
      "outputs": [
        {
          "output_type": "execute_result",
          "data": {
            "text/plain": [
              "(392, 7)"
            ]
          },
          "metadata": {},
          "execution_count": 48
        }
      ]
    },
    {
      "cell_type": "markdown",
      "metadata": {
        "id": "P9Gs8zgobivE"
      },
      "source": [
        "## 전체 데이터에 대한 기술 통계 확인"
      ]
    },
    {
      "cell_type": "code",
      "metadata": {
        "id": "O0PrHIVRbivF",
        "colab": {
          "base_uri": "https://localhost:8080/",
          "height": 300
        },
        "outputId": "fb1dc115-0af6-4a1b-8da6-85eb2cdcb942"
      },
      "source": [
        "# describe 를 통해 기술 통계값을 확인합니다.\n",
        "df.describe(include=\"all\")"
      ],
      "execution_count": 49,
      "outputs": [
        {
          "output_type": "execute_result",
          "data": {
            "text/html": [
              "<div>\n",
              "<style scoped>\n",
              "    .dataframe tbody tr th:only-of-type {\n",
              "        vertical-align: middle;\n",
              "    }\n",
              "\n",
              "    .dataframe tbody tr th {\n",
              "        vertical-align: top;\n",
              "    }\n",
              "\n",
              "    .dataframe thead th {\n",
              "        text-align: right;\n",
              "    }\n",
              "</style>\n",
              "<table border=\"1\" class=\"dataframe\">\n",
              "  <thead>\n",
              "    <tr style=\"text-align: right;\">\n",
              "      <th></th>\n",
              "      <th>mpg</th>\n",
              "      <th>cylinders</th>\n",
              "      <th>displacement</th>\n",
              "      <th>horsepower</th>\n",
              "      <th>weight</th>\n",
              "      <th>acceleration</th>\n",
              "      <th>model_year</th>\n",
              "    </tr>\n",
              "  </thead>\n",
              "  <tbody>\n",
              "    <tr>\n",
              "      <th>count</th>\n",
              "      <td>392.000000</td>\n",
              "      <td>392.000000</td>\n",
              "      <td>392.000000</td>\n",
              "      <td>392.000000</td>\n",
              "      <td>392.000000</td>\n",
              "      <td>392.000000</td>\n",
              "      <td>392.000000</td>\n",
              "    </tr>\n",
              "    <tr>\n",
              "      <th>mean</th>\n",
              "      <td>23.445918</td>\n",
              "      <td>5.471939</td>\n",
              "      <td>194.411990</td>\n",
              "      <td>104.469388</td>\n",
              "      <td>2977.584184</td>\n",
              "      <td>15.541327</td>\n",
              "      <td>75.979592</td>\n",
              "    </tr>\n",
              "    <tr>\n",
              "      <th>std</th>\n",
              "      <td>7.805007</td>\n",
              "      <td>1.705783</td>\n",
              "      <td>104.644004</td>\n",
              "      <td>38.491160</td>\n",
              "      <td>849.402560</td>\n",
              "      <td>2.758864</td>\n",
              "      <td>3.683737</td>\n",
              "    </tr>\n",
              "    <tr>\n",
              "      <th>min</th>\n",
              "      <td>9.000000</td>\n",
              "      <td>3.000000</td>\n",
              "      <td>68.000000</td>\n",
              "      <td>46.000000</td>\n",
              "      <td>1613.000000</td>\n",
              "      <td>8.000000</td>\n",
              "      <td>70.000000</td>\n",
              "    </tr>\n",
              "    <tr>\n",
              "      <th>25%</th>\n",
              "      <td>17.000000</td>\n",
              "      <td>4.000000</td>\n",
              "      <td>105.000000</td>\n",
              "      <td>75.000000</td>\n",
              "      <td>2225.250000</td>\n",
              "      <td>13.775000</td>\n",
              "      <td>73.000000</td>\n",
              "    </tr>\n",
              "    <tr>\n",
              "      <th>50%</th>\n",
              "      <td>22.750000</td>\n",
              "      <td>4.000000</td>\n",
              "      <td>151.000000</td>\n",
              "      <td>93.500000</td>\n",
              "      <td>2803.500000</td>\n",
              "      <td>15.500000</td>\n",
              "      <td>76.000000</td>\n",
              "    </tr>\n",
              "    <tr>\n",
              "      <th>75%</th>\n",
              "      <td>29.000000</td>\n",
              "      <td>8.000000</td>\n",
              "      <td>275.750000</td>\n",
              "      <td>126.000000</td>\n",
              "      <td>3614.750000</td>\n",
              "      <td>17.025000</td>\n",
              "      <td>79.000000</td>\n",
              "    </tr>\n",
              "    <tr>\n",
              "      <th>max</th>\n",
              "      <td>46.600000</td>\n",
              "      <td>8.000000</td>\n",
              "      <td>455.000000</td>\n",
              "      <td>230.000000</td>\n",
              "      <td>5140.000000</td>\n",
              "      <td>24.800000</td>\n",
              "      <td>82.000000</td>\n",
              "    </tr>\n",
              "  </tbody>\n",
              "</table>\n",
              "</div>"
            ],
            "text/plain": [
              "              mpg   cylinders  ...  acceleration  model_year\n",
              "count  392.000000  392.000000  ...    392.000000  392.000000\n",
              "mean    23.445918    5.471939  ...     15.541327   75.979592\n",
              "std      7.805007    1.705783  ...      2.758864    3.683737\n",
              "min      9.000000    3.000000  ...      8.000000   70.000000\n",
              "25%     17.000000    4.000000  ...     13.775000   73.000000\n",
              "50%     22.750000    4.000000  ...     15.500000   76.000000\n",
              "75%     29.000000    8.000000  ...     17.025000   79.000000\n",
              "max     46.600000    8.000000  ...     24.800000   82.000000\n",
              "\n",
              "[8 rows x 7 columns]"
            ]
          },
          "metadata": {},
          "execution_count": 49
        }
      ]
    },
    {
      "cell_type": "markdown",
      "metadata": {
        "id": "CPbRCf9TbivF"
      },
      "source": [
        "## 데이터셋 나누기"
      ]
    },
    {
      "cell_type": "code",
      "metadata": {
        "id": "UjuuBJxsbivF",
        "colab": {
          "base_uri": "https://localhost:8080/"
        },
        "outputId": "7399b2b4-24da-44e9-938b-f2a5a4c9b3c1"
      },
      "source": [
        "# 전체 데이터프레임에서 df, train, test를 분리합니다.\n",
        "# train_dataset : 학습에 사용 (예: 기출문제)\n",
        "# test_dataset : 실제 예측에 사용 (예 : 실전문제)\n",
        "# 기출문제로 공부하고 실전 시험을 보는 과정과 유사합니다.\n",
        "\n",
        "train_dataset = df.sample(frac=0.8, random_state=42)\n",
        "train_dataset.shape"
      ],
      "execution_count": 50,
      "outputs": [
        {
          "output_type": "execute_result",
          "data": {
            "text/plain": [
              "(314, 7)"
            ]
          },
          "metadata": {},
          "execution_count": 50
        }
      ]
    },
    {
      "cell_type": "code",
      "metadata": {
        "colab": {
          "base_uri": "https://localhost:8080/"
        },
        "id": "EcNa86AGdvGk",
        "outputId": "a1af52bf-bf9b-41be-d580-28cf515f8391"
      },
      "source": [
        "test_dataset = df.drop(train_dataset.index)\n",
        "test_dataset.shape"
      ],
      "execution_count": 51,
      "outputs": [
        {
          "output_type": "execute_result",
          "data": {
            "text/plain": [
              "(78, 7)"
            ]
          },
          "metadata": {},
          "execution_count": 51
        }
      ]
    },
    {
      "cell_type": "code",
      "metadata": {
        "id": "M2Q6ip_jbivF",
        "colab": {
          "base_uri": "https://localhost:8080/"
        },
        "outputId": "16dee91e-a46b-4244-9514-5108bfe39a72"
      },
      "source": [
        "# train_dataset, test_dataset 에서 label(정답) 값을 꺼내 label 을 따로 생성합니다.\n",
        "# 문제에서 정답을 분리하는 과정입니다.\n",
        "# train_labels : train_dataset(예: 기출문제) 에서 정답을 꺼내서 분리합니다.\n",
        "# test_labels : test_labels(예: 실전문제) 에서 정답을 꺼내서 분리합니다.\n",
        "train_labels = train_dataset.pop(\"mpg\")\n",
        "train_labels\n"
      ],
      "execution_count": 52,
      "outputs": [
        {
          "output_type": "execute_result",
          "data": {
            "text/plain": [
              "79     26.0\n",
              "276    21.6\n",
              "248    36.1\n",
              "56     26.0\n",
              "393    27.0\n",
              "       ... \n",
              "218    36.0\n",
              "281    19.8\n",
              "342    30.0\n",
              "238    33.5\n",
              "209    19.0\n",
              "Name: mpg, Length: 314, dtype: float64"
            ]
          },
          "metadata": {},
          "execution_count": 52
        }
      ]
    },
    {
      "cell_type": "code",
      "metadata": {
        "colab": {
          "base_uri": "https://localhost:8080/"
        },
        "id": "GveodypOrUqc",
        "outputId": "d21e1af5-94ee-49ba-d256-a8c5f189faa0"
      },
      "source": [
        "test_labels = test_dataset.pop(\"mpg\")\n",
        "test_labels.shape"
      ],
      "execution_count": 53,
      "outputs": [
        {
          "output_type": "execute_result",
          "data": {
            "text/plain": [
              "(78,)"
            ]
          },
          "metadata": {},
          "execution_count": 53
        }
      ]
    },
    {
      "cell_type": "code",
      "metadata": {
        "colab": {
          "base_uri": "https://localhost:8080/"
        },
        "id": "m_ETJiPYrcvm",
        "outputId": "f82ba917-331c-41e4-eb91-ec33bb1a3b1f"
      },
      "source": [
        "train_dataset.shape, test_dataset.shape"
      ],
      "execution_count": 54,
      "outputs": [
        {
          "output_type": "execute_result",
          "data": {
            "text/plain": [
              "((314, 6), (78, 6))"
            ]
          },
          "metadata": {},
          "execution_count": 54
        }
      ]
    },
    {
      "cell_type": "code",
      "metadata": {
        "colab": {
          "base_uri": "https://localhost:8080/",
          "height": 206
        },
        "id": "V4cE5SInriq_",
        "outputId": "29b6c726-1ea3-4460-a780-67c376b866a0"
      },
      "source": [
        "train_dataset.head()"
      ],
      "execution_count": 55,
      "outputs": [
        {
          "output_type": "execute_result",
          "data": {
            "text/html": [
              "<div>\n",
              "<style scoped>\n",
              "    .dataframe tbody tr th:only-of-type {\n",
              "        vertical-align: middle;\n",
              "    }\n",
              "\n",
              "    .dataframe tbody tr th {\n",
              "        vertical-align: top;\n",
              "    }\n",
              "\n",
              "    .dataframe thead th {\n",
              "        text-align: right;\n",
              "    }\n",
              "</style>\n",
              "<table border=\"1\" class=\"dataframe\">\n",
              "  <thead>\n",
              "    <tr style=\"text-align: right;\">\n",
              "      <th></th>\n",
              "      <th>cylinders</th>\n",
              "      <th>displacement</th>\n",
              "      <th>horsepower</th>\n",
              "      <th>weight</th>\n",
              "      <th>acceleration</th>\n",
              "      <th>model_year</th>\n",
              "    </tr>\n",
              "  </thead>\n",
              "  <tbody>\n",
              "    <tr>\n",
              "      <th>79</th>\n",
              "      <td>4</td>\n",
              "      <td>96.0</td>\n",
              "      <td>69.0</td>\n",
              "      <td>2189</td>\n",
              "      <td>18.0</td>\n",
              "      <td>72</td>\n",
              "    </tr>\n",
              "    <tr>\n",
              "      <th>276</th>\n",
              "      <td>4</td>\n",
              "      <td>121.0</td>\n",
              "      <td>115.0</td>\n",
              "      <td>2795</td>\n",
              "      <td>15.7</td>\n",
              "      <td>78</td>\n",
              "    </tr>\n",
              "    <tr>\n",
              "      <th>248</th>\n",
              "      <td>4</td>\n",
              "      <td>91.0</td>\n",
              "      <td>60.0</td>\n",
              "      <td>1800</td>\n",
              "      <td>16.4</td>\n",
              "      <td>78</td>\n",
              "    </tr>\n",
              "    <tr>\n",
              "      <th>56</th>\n",
              "      <td>4</td>\n",
              "      <td>91.0</td>\n",
              "      <td>70.0</td>\n",
              "      <td>1955</td>\n",
              "      <td>20.5</td>\n",
              "      <td>71</td>\n",
              "    </tr>\n",
              "    <tr>\n",
              "      <th>393</th>\n",
              "      <td>4</td>\n",
              "      <td>140.0</td>\n",
              "      <td>86.0</td>\n",
              "      <td>2790</td>\n",
              "      <td>15.6</td>\n",
              "      <td>82</td>\n",
              "    </tr>\n",
              "  </tbody>\n",
              "</table>\n",
              "</div>"
            ],
            "text/plain": [
              "     cylinders  displacement  horsepower  weight  acceleration  model_year\n",
              "79           4          96.0        69.0    2189          18.0          72\n",
              "276          4         121.0       115.0    2795          15.7          78\n",
              "248          4          91.0        60.0    1800          16.4          78\n",
              "56           4          91.0        70.0    1955          20.5          71\n",
              "393          4         140.0        86.0    2790          15.6          82"
            ]
          },
          "metadata": {},
          "execution_count": 55
        }
      ]
    },
    {
      "cell_type": "markdown",
      "metadata": {
        "id": "Xx4soXGebivG"
      },
      "source": [
        "## 딥러닝 모델 만들기\n",
        "<img src=\"https://cs231n.github.io/assets/nn1/neural_net.jpeg\" width=\"30%\"> <img src=\"https://cs231n.github.io/assets/nn1/neural_net2.jpeg\" width=\"40%\">\n",
        "\n",
        "* 이미지 출처 : https://cs231n.github.io/neural-networks-1/\n",
        "\n",
        "* 두 개의 완전 연결(densely connected) 은닉층으로 Sequential 모델을 만들겠습니다. \n",
        "* 출력 층은 하나의 연속적인 값을 반환합니다. "
      ]
    },
    {
      "cell_type": "code",
      "metadata": {
        "id": "barOYtsObivG",
        "colab": {
          "base_uri": "https://localhost:8080/",
          "height": 36
        },
        "outputId": "9b41315d-5d1a-4dc5-cc53-bdb741298ccf"
      },
      "source": [
        "# tensorflow 를 불러옵니다.\n",
        "import tensorflow as tf\n",
        "tf.__version__"
      ],
      "execution_count": 56,
      "outputs": [
        {
          "output_type": "execute_result",
          "data": {
            "application/vnd.google.colaboratory.intrinsic+json": {
              "type": "string"
            },
            "text/plain": [
              "'2.6.0'"
            ]
          },
          "metadata": {},
          "execution_count": 56
        }
      ]
    },
    {
      "cell_type": "markdown",
      "metadata": {
        "id": "-UuTLoiAbivG"
      },
      "source": [
        "### 딥러닝 층 구성"
      ]
    },
    {
      "cell_type": "code",
      "metadata": {
        "id": "zh4pykc9bivK"
      },
      "source": [
        "model = tf.keras.Sequential()\n",
        "# 64 --> 임의의 숫자를 입력해줘도 된다\n",
        "# input shape ; 변수의 개수\n",
        "model.add(tf.keras.layers.Dense(64, activation=\"relu\", input_shape=[len(train_dataset.keys())]))\n",
        "model.add(tf.keras.layers.Dense(64, activation=\"relu\"))\n",
        "model.add(tf.keras.layers.Dense(64, activation=\"relu\"))\n",
        "model.add(tf.keras.layers.Dense(1))"
      ],
      "execution_count": 66,
      "outputs": []
    },
    {
      "cell_type": "markdown",
      "metadata": {
        "id": "B0WmUGwDbivK"
      },
      "source": [
        "### 모델 컴파일"
      ]
    },
    {
      "cell_type": "code",
      "metadata": {
        "id": "YEJdUfqbbivK"
      },
      "source": [
        "# mae : 오차에 대한 절대값의 평균\n",
        "# mse : 모델의 오차를 어떻게 측정을 할 것인지\n",
        "model.compile(loss=\"mse\",metrics=[\"mae\",\"mse\"])"
      ],
      "execution_count": 67,
      "outputs": []
    },
    {
      "cell_type": "markdown",
      "metadata": {
        "id": "JyWwleqHbivL"
      },
      "source": [
        "### 만든 모델 확인하기"
      ]
    },
    {
      "cell_type": "code",
      "metadata": {
        "scrolled": true,
        "id": "FPvm9iH3bivL",
        "colab": {
          "base_uri": "https://localhost:8080/"
        },
        "outputId": "32e1c340-a7f3-41ba-b275-936d7099f25b"
      },
      "source": [
        "model.summary()"
      ],
      "execution_count": 68,
      "outputs": [
        {
          "output_type": "stream",
          "name": "stdout",
          "text": [
            "Model: \"sequential_5\"\n",
            "_________________________________________________________________\n",
            "Layer (type)                 Output Shape              Param #   \n",
            "=================================================================\n",
            "dense_17 (Dense)             (None, 64)                448       \n",
            "_________________________________________________________________\n",
            "dense_18 (Dense)             (None, 64)                4160      \n",
            "_________________________________________________________________\n",
            "dense_19 (Dense)             (None, 64)                4160      \n",
            "_________________________________________________________________\n",
            "dense_20 (Dense)             (None, 1)                 65        \n",
            "=================================================================\n",
            "Total params: 8,833\n",
            "Trainable params: 8,833\n",
            "Non-trainable params: 0\n",
            "_________________________________________________________________\n"
          ]
        }
      ]
    },
    {
      "cell_type": "markdown",
      "metadata": {
        "id": "cbdYFlrUbivL"
      },
      "source": [
        "## 딥러닝 모델로 학습하기"
      ]
    },
    {
      "cell_type": "code",
      "metadata": {
        "id": "EMi-uTBmbivL",
        "colab": {
          "base_uri": "https://localhost:8080/"
        },
        "outputId": "3c1755a2-1b25-4442-ada8-31cda2f1e658"
      },
      "source": [
        "# epochs : 몇번을 이용해서 학습을 시킬 것인가\n",
        "# verbose : log를 어떻게 찍을건지를 의미\n",
        "model.fit(train_dataset, train_labels, epochs = 100, verbose=1)"
      ],
      "execution_count": 69,
      "outputs": [
        {
          "output_type": "stream",
          "name": "stdout",
          "text": [
            "Epoch 1/100\n",
            "10/10 [==============================] - 1s 2ms/step - loss: 5055.1187 - mae: 43.9591 - mse: 5055.1187\n",
            "Epoch 2/100\n",
            "10/10 [==============================] - 0s 2ms/step - loss: 1301.7061 - mae: 25.8241 - mse: 1301.7061\n",
            "Epoch 3/100\n",
            "10/10 [==============================] - 0s 3ms/step - loss: 1423.3906 - mae: 29.0698 - mse: 1423.3906\n",
            "Epoch 4/100\n",
            "10/10 [==============================] - 0s 2ms/step - loss: 1870.2007 - mae: 36.4977 - mse: 1870.2007\n",
            "Epoch 5/100\n",
            "10/10 [==============================] - 0s 3ms/step - loss: 1762.8046 - mae: 33.7610 - mse: 1762.8046\n",
            "Epoch 6/100\n",
            "10/10 [==============================] - 0s 2ms/step - loss: 756.7903 - mae: 23.4457 - mse: 756.7903\n",
            "Epoch 7/100\n",
            "10/10 [==============================] - 0s 2ms/step - loss: 1574.2159 - mae: 34.5289 - mse: 1574.2159\n",
            "Epoch 8/100\n",
            "10/10 [==============================] - 0s 2ms/step - loss: 1149.7677 - mae: 27.4724 - mse: 1149.7677\n",
            "Epoch 9/100\n",
            "10/10 [==============================] - 0s 2ms/step - loss: 676.3235 - mae: 20.6249 - mse: 676.3235\n",
            "Epoch 10/100\n",
            "10/10 [==============================] - 0s 2ms/step - loss: 868.0948 - mae: 24.2616 - mse: 868.0948\n",
            "Epoch 11/100\n",
            "10/10 [==============================] - 0s 3ms/step - loss: 640.4228 - mae: 21.4506 - mse: 640.4229\n",
            "Epoch 12/100\n",
            "10/10 [==============================] - 0s 2ms/step - loss: 470.3179 - mae: 16.6397 - mse: 470.3179\n",
            "Epoch 13/100\n",
            "10/10 [==============================] - 0s 2ms/step - loss: 895.5750 - mae: 25.4196 - mse: 895.5750\n",
            "Epoch 14/100\n",
            "10/10 [==============================] - 0s 2ms/step - loss: 389.9802 - mae: 15.6750 - mse: 389.9802\n",
            "Epoch 15/100\n",
            "10/10 [==============================] - 0s 2ms/step - loss: 435.5654 - mae: 17.8819 - mse: 435.5654\n",
            "Epoch 16/100\n",
            "10/10 [==============================] - 0s 2ms/step - loss: 491.6869 - mae: 16.6803 - mse: 491.6869\n",
            "Epoch 17/100\n",
            "10/10 [==============================] - 0s 3ms/step - loss: 273.5840 - mae: 12.9927 - mse: 273.5840\n",
            "Epoch 18/100\n",
            "10/10 [==============================] - 0s 2ms/step - loss: 558.9897 - mae: 18.9628 - mse: 558.9897\n",
            "Epoch 19/100\n",
            "10/10 [==============================] - 0s 2ms/step - loss: 332.7513 - mae: 15.1746 - mse: 332.7513\n",
            "Epoch 20/100\n",
            "10/10 [==============================] - 0s 2ms/step - loss: 325.2336 - mae: 15.3691 - mse: 325.2336\n",
            "Epoch 21/100\n",
            "10/10 [==============================] - 0s 2ms/step - loss: 419.6330 - mae: 17.5692 - mse: 419.6330\n",
            "Epoch 22/100\n",
            "10/10 [==============================] - 0s 2ms/step - loss: 188.1249 - mae: 10.9302 - mse: 188.1249\n",
            "Epoch 23/100\n",
            "10/10 [==============================] - 0s 3ms/step - loss: 398.5043 - mae: 16.0729 - mse: 398.5043\n",
            "Epoch 24/100\n",
            "10/10 [==============================] - 0s 3ms/step - loss: 363.4498 - mae: 15.3301 - mse: 363.4498\n",
            "Epoch 25/100\n",
            "10/10 [==============================] - 0s 2ms/step - loss: 160.3854 - mae: 10.1020 - mse: 160.3854\n",
            "Epoch 26/100\n",
            "10/10 [==============================] - 0s 3ms/step - loss: 462.6854 - mae: 17.7002 - mse: 462.6854\n",
            "Epoch 27/100\n",
            "10/10 [==============================] - 0s 2ms/step - loss: 285.2912 - mae: 14.3655 - mse: 285.2912\n",
            "Epoch 28/100\n",
            "10/10 [==============================] - 0s 2ms/step - loss: 242.3204 - mae: 13.0994 - mse: 242.3204\n",
            "Epoch 29/100\n",
            "10/10 [==============================] - 0s 2ms/step - loss: 202.7993 - mae: 11.4968 - mse: 202.7993\n",
            "Epoch 30/100\n",
            "10/10 [==============================] - 0s 2ms/step - loss: 283.5853 - mae: 13.7146 - mse: 283.5853\n",
            "Epoch 31/100\n",
            "10/10 [==============================] - 0s 2ms/step - loss: 172.2809 - mae: 10.8614 - mse: 172.2809\n",
            "Epoch 32/100\n",
            "10/10 [==============================] - 0s 3ms/step - loss: 256.3833 - mae: 13.0967 - mse: 256.3833\n",
            "Epoch 33/100\n",
            "10/10 [==============================] - 0s 2ms/step - loss: 176.9047 - mae: 11.0845 - mse: 176.9047\n",
            "Epoch 34/100\n",
            "10/10 [==============================] - 0s 3ms/step - loss: 204.8461 - mae: 12.0201 - mse: 204.8461\n",
            "Epoch 35/100\n",
            "10/10 [==============================] - 0s 2ms/step - loss: 152.6226 - mae: 10.0952 - mse: 152.6226\n",
            "Epoch 36/100\n",
            "10/10 [==============================] - 0s 2ms/step - loss: 164.3752 - mae: 10.9505 - mse: 164.3752\n",
            "Epoch 37/100\n",
            "10/10 [==============================] - 0s 2ms/step - loss: 170.2630 - mae: 10.8338 - mse: 170.2630\n",
            "Epoch 38/100\n",
            "10/10 [==============================] - 0s 2ms/step - loss: 178.2157 - mae: 10.9250 - mse: 178.2157\n",
            "Epoch 39/100\n",
            "10/10 [==============================] - 0s 2ms/step - loss: 104.4840 - mae: 8.1472 - mse: 104.4840\n",
            "Epoch 40/100\n",
            "10/10 [==============================] - 0s 2ms/step - loss: 161.1102 - mae: 9.9094 - mse: 161.1102\n",
            "Epoch 41/100\n",
            "10/10 [==============================] - 0s 2ms/step - loss: 179.2114 - mae: 10.5089 - mse: 179.2114\n",
            "Epoch 42/100\n",
            "10/10 [==============================] - 0s 3ms/step - loss: 161.6652 - mae: 10.0395 - mse: 161.6652\n",
            "Epoch 43/100\n",
            "10/10 [==============================] - 0s 2ms/step - loss: 107.8541 - mae: 8.3195 - mse: 107.8541\n",
            "Epoch 44/100\n",
            "10/10 [==============================] - 0s 2ms/step - loss: 122.2597 - mae: 8.9250 - mse: 122.2597\n",
            "Epoch 45/100\n",
            "10/10 [==============================] - 0s 2ms/step - loss: 157.1261 - mae: 10.1791 - mse: 157.1261\n",
            "Epoch 46/100\n",
            "10/10 [==============================] - 0s 2ms/step - loss: 93.8169 - mae: 7.9405 - mse: 93.8169\n",
            "Epoch 47/100\n",
            "10/10 [==============================] - 0s 2ms/step - loss: 150.4416 - mae: 10.3211 - mse: 150.4416\n",
            "Epoch 48/100\n",
            "10/10 [==============================] - 0s 2ms/step - loss: 96.5786 - mae: 7.8654 - mse: 96.5786\n",
            "Epoch 49/100\n",
            "10/10 [==============================] - 0s 2ms/step - loss: 144.8382 - mae: 9.7457 - mse: 144.8382\n",
            "Epoch 50/100\n",
            "10/10 [==============================] - 0s 2ms/step - loss: 111.9161 - mae: 8.5140 - mse: 111.9161\n",
            "Epoch 51/100\n",
            "10/10 [==============================] - 0s 2ms/step - loss: 122.6831 - mae: 8.9819 - mse: 122.6831\n",
            "Epoch 52/100\n",
            "10/10 [==============================] - 0s 2ms/step - loss: 99.5101 - mae: 8.0750 - mse: 99.5101\n",
            "Epoch 53/100\n",
            "10/10 [==============================] - 0s 2ms/step - loss: 105.1166 - mae: 8.3203 - mse: 105.1166\n",
            "Epoch 54/100\n",
            "10/10 [==============================] - 0s 2ms/step - loss: 96.4384 - mae: 8.1317 - mse: 96.4384\n",
            "Epoch 55/100\n",
            "10/10 [==============================] - 0s 2ms/step - loss: 107.9799 - mae: 8.5372 - mse: 107.9799\n",
            "Epoch 56/100\n",
            "10/10 [==============================] - 0s 2ms/step - loss: 104.4882 - mae: 8.0939 - mse: 104.4882\n",
            "Epoch 57/100\n",
            "10/10 [==============================] - 0s 3ms/step - loss: 86.4966 - mae: 7.2797 - mse: 86.4966\n",
            "Epoch 58/100\n",
            "10/10 [==============================] - 0s 3ms/step - loss: 110.1363 - mae: 8.1639 - mse: 110.1363\n",
            "Epoch 59/100\n",
            "10/10 [==============================] - 0s 2ms/step - loss: 81.4417 - mae: 7.0062 - mse: 81.4417\n",
            "Epoch 60/100\n",
            "10/10 [==============================] - 0s 2ms/step - loss: 77.2617 - mae: 6.9699 - mse: 77.2617\n",
            "Epoch 61/100\n",
            "10/10 [==============================] - 0s 2ms/step - loss: 113.9898 - mae: 8.9360 - mse: 113.9898\n",
            "Epoch 62/100\n",
            "10/10 [==============================] - 0s 2ms/step - loss: 70.1336 - mae: 6.5934 - mse: 70.1336\n",
            "Epoch 63/100\n",
            "10/10 [==============================] - 0s 2ms/step - loss: 107.9130 - mae: 8.5087 - mse: 107.9130\n",
            "Epoch 64/100\n",
            "10/10 [==============================] - 0s 2ms/step - loss: 61.4331 - mae: 6.0429 - mse: 61.4331\n",
            "Epoch 65/100\n",
            "10/10 [==============================] - 0s 2ms/step - loss: 89.2934 - mae: 7.5976 - mse: 89.2934\n",
            "Epoch 66/100\n",
            "10/10 [==============================] - 0s 2ms/step - loss: 74.1293 - mae: 6.9279 - mse: 74.1293\n",
            "Epoch 67/100\n",
            "10/10 [==============================] - 0s 2ms/step - loss: 70.6370 - mae: 6.6827 - mse: 70.6370\n",
            "Epoch 68/100\n",
            "10/10 [==============================] - 0s 2ms/step - loss: 68.2317 - mae: 6.5684 - mse: 68.2317\n",
            "Epoch 69/100\n",
            "10/10 [==============================] - 0s 2ms/step - loss: 84.4866 - mae: 7.2708 - mse: 84.4866\n",
            "Epoch 70/100\n",
            "10/10 [==============================] - 0s 2ms/step - loss: 59.4266 - mae: 6.0172 - mse: 59.4266\n",
            "Epoch 71/100\n",
            "10/10 [==============================] - 0s 2ms/step - loss: 71.0977 - mae: 6.5969 - mse: 71.0977\n",
            "Epoch 72/100\n",
            "10/10 [==============================] - 0s 2ms/step - loss: 80.5543 - mae: 7.0675 - mse: 80.5543\n",
            "Epoch 73/100\n",
            "10/10 [==============================] - 0s 2ms/step - loss: 71.4736 - mae: 6.6902 - mse: 71.4736\n",
            "Epoch 74/100\n",
            "10/10 [==============================] - 0s 3ms/step - loss: 60.9086 - mae: 6.2205 - mse: 60.9086\n",
            "Epoch 75/100\n",
            "10/10 [==============================] - 0s 4ms/step - loss: 89.5674 - mae: 7.2808 - mse: 89.5674\n",
            "Epoch 76/100\n",
            "10/10 [==============================] - 0s 2ms/step - loss: 62.3977 - mae: 6.0669 - mse: 62.3977\n",
            "Epoch 77/100\n",
            "10/10 [==============================] - 0s 2ms/step - loss: 73.0874 - mae: 6.7871 - mse: 73.0874\n",
            "Epoch 78/100\n",
            "10/10 [==============================] - 0s 2ms/step - loss: 69.0356 - mae: 6.3653 - mse: 69.0356\n",
            "Epoch 79/100\n",
            "10/10 [==============================] - 0s 2ms/step - loss: 58.0647 - mae: 5.9157 - mse: 58.0647\n",
            "Epoch 80/100\n",
            "10/10 [==============================] - 0s 2ms/step - loss: 69.6869 - mae: 6.7140 - mse: 69.6869\n",
            "Epoch 81/100\n",
            "10/10 [==============================] - 0s 2ms/step - loss: 51.1863 - mae: 5.5941 - mse: 51.1863\n",
            "Epoch 82/100\n",
            "10/10 [==============================] - 0s 2ms/step - loss: 71.2909 - mae: 6.4417 - mse: 71.2909\n",
            "Epoch 83/100\n",
            "10/10 [==============================] - 0s 2ms/step - loss: 67.3509 - mae: 6.3918 - mse: 67.3509\n",
            "Epoch 84/100\n",
            "10/10 [==============================] - 0s 3ms/step - loss: 38.2486 - mae: 4.7691 - mse: 38.2486\n",
            "Epoch 85/100\n",
            "10/10 [==============================] - 0s 2ms/step - loss: 75.3622 - mae: 6.6358 - mse: 75.3622\n",
            "Epoch 86/100\n",
            "10/10 [==============================] - 0s 2ms/step - loss: 61.7543 - mae: 6.1701 - mse: 61.7543\n",
            "Epoch 87/100\n",
            "10/10 [==============================] - 0s 2ms/step - loss: 66.4946 - mae: 6.4312 - mse: 66.4946\n",
            "Epoch 88/100\n",
            "10/10 [==============================] - 0s 2ms/step - loss: 57.1231 - mae: 5.9337 - mse: 57.1231\n",
            "Epoch 89/100\n",
            "10/10 [==============================] - 0s 2ms/step - loss: 53.1778 - mae: 5.6344 - mse: 53.1778\n",
            "Epoch 90/100\n",
            "10/10 [==============================] - 0s 2ms/step - loss: 61.0665 - mae: 6.2299 - mse: 61.0665\n",
            "Epoch 91/100\n",
            "10/10 [==============================] - 0s 3ms/step - loss: 51.4847 - mae: 5.5033 - mse: 51.4847\n",
            "Epoch 92/100\n",
            "10/10 [==============================] - 0s 2ms/step - loss: 76.4488 - mae: 7.2113 - mse: 76.4488\n",
            "Epoch 93/100\n",
            "10/10 [==============================] - 0s 2ms/step - loss: 51.0893 - mae: 5.7707 - mse: 51.0893\n",
            "Epoch 94/100\n",
            "10/10 [==============================] - 0s 2ms/step - loss: 50.1496 - mae: 5.4923 - mse: 50.1496\n",
            "Epoch 95/100\n",
            "10/10 [==============================] - 0s 2ms/step - loss: 66.6976 - mae: 6.4865 - mse: 66.6976\n",
            "Epoch 96/100\n",
            "10/10 [==============================] - 0s 2ms/step - loss: 51.7091 - mae: 5.4567 - mse: 51.7091\n",
            "Epoch 97/100\n",
            "10/10 [==============================] - 0s 3ms/step - loss: 56.8869 - mae: 5.9432 - mse: 56.8869\n",
            "Epoch 98/100\n",
            "10/10 [==============================] - 0s 2ms/step - loss: 60.2233 - mae: 6.1365 - mse: 60.2233\n",
            "Epoch 99/100\n",
            "10/10 [==============================] - 0s 2ms/step - loss: 57.7289 - mae: 5.7810 - mse: 57.7289\n",
            "Epoch 100/100\n",
            "10/10 [==============================] - 0s 2ms/step - loss: 40.9202 - mae: 5.0056 - mse: 40.9202\n"
          ]
        },
        {
          "output_type": "execute_result",
          "data": {
            "text/plain": [
              "<keras.callbacks.History at 0x7f2617a2aa90>"
            ]
          },
          "metadata": {},
          "execution_count": 69
        }
      ]
    },
    {
      "cell_type": "markdown",
      "metadata": {
        "id": "17ygBBaTbivL"
      },
      "source": [
        "## 딥러닝 모델로 평가하기"
      ]
    },
    {
      "cell_type": "code",
      "metadata": {
        "id": "GTMNyPgEbivL",
        "colab": {
          "base_uri": "https://localhost:8080/"
        },
        "outputId": "17524e7f-f5f6-4b35-a723-8466dd17c4c9"
      },
      "source": [
        "model.evaluate(test_dataset, test_labels)\n",
        "# 평균적으로 절대값이 mae만큼 차이가 난다.\n",
        "# mse같은 경우, error값을 제곱을 한 값이 mse정도 된다\n",
        "# mae값을 줄일수록 좋은 모델이라는 것을 확인 가능하다"
      ],
      "execution_count": 71,
      "outputs": [
        {
          "output_type": "stream",
          "name": "stdout",
          "text": [
            "3/3 [==============================] - 0s 4ms/step - loss: 45.6116 - mae: 5.5259 - mse: 45.6116\n"
          ]
        },
        {
          "output_type": "execute_result",
          "data": {
            "text/plain": [
              "[45.61163330078125, 5.525858402252197, 45.61163330078125]"
            ]
          },
          "metadata": {},
          "execution_count": 71
        }
      ]
    },
    {
      "cell_type": "markdown",
      "metadata": {
        "id": "1HRKy29SbivM"
      },
      "source": [
        "## 딥러닝 모델의 예측하기"
      ]
    },
    {
      "cell_type": "code",
      "metadata": {
        "id": "gwbGKKPYbivM",
        "colab": {
          "base_uri": "https://localhost:8080/"
        },
        "outputId": "663b6acf-129b-4de1-fefc-6b57b7ec3301"
      },
      "source": [
        "predict_labels = model.predict(test_dataset).flatten()\n",
        "predict_labels[:5]\n",
        "# flatten() : 1차원 형태로 만들어주기"
      ],
      "execution_count": 72,
      "outputs": [
        {
          "output_type": "execute_result",
          "data": {
            "text/plain": [
              "array([ 8.010106 , 11.336173 , 29.50404  , 26.476152 , 10.1016655],\n",
              "      dtype=float32)"
            ]
          },
          "metadata": {},
          "execution_count": 72
        }
      ]
    },
    {
      "cell_type": "markdown",
      "metadata": {
        "id": "M1kobBuBbivM"
      },
      "source": [
        "## 딥러닝 모델의 예측결과 평가하기"
      ]
    },
    {
      "cell_type": "code",
      "metadata": {
        "id": "61_RCPnTbivM",
        "colab": {
          "base_uri": "https://localhost:8080/",
          "height": 298
        },
        "outputId": "60ad0938-b53f-4436-80d4-b1c19ea0037a"
      },
      "source": [
        "sns.scatterplot(x=test_labels, y=predict_labels)"
      ],
      "execution_count": 73,
      "outputs": [
        {
          "output_type": "execute_result",
          "data": {
            "text/plain": [
              "<matplotlib.axes._subplots.AxesSubplot at 0x7f26177f2890>"
            ]
          },
          "metadata": {},
          "execution_count": 73
        },
        {
          "output_type": "display_data",
          "data": {
            "image/png": "[encoded data removed]",
            "text/plain": [
              "<Figure size 432x288 with 1 Axes>"
            ]
          },
          "metadata": {
            "needs_background": "light"
          }
        }
      ]
    },
    {
      "cell_type": "code",
      "metadata": {
        "id": "8zqIrmCcbivM",
        "colab": {
          "base_uri": "https://localhost:8080/",
          "height": 460
        },
        "outputId": "498ee29a-2ef3-4334-ade6-3b8d59cf2100"
      },
      "source": [
        "sns.jointplot(x=test_labels, y=predict_labels, kind=\"reg\")"
      ],
      "execution_count": 74,
      "outputs": [
        {
          "output_type": "execute_result",
          "data": {
            "text/plain": [
              "<seaborn.axisgrid.JointGrid at 0x7f261828cad0>"
            ]
          },
          "metadata": {},
          "execution_count": 74
        },
        {
          "output_type": "display_data",
          "data": {
            "image/png": "[encoded data removed]",
            "text/plain": [
              "<Figure size 432x432 with 3 Axes>"
            ]
          },
          "metadata": {
            "needs_background": "light"
          }
        }
      ]
    }
  ]
}