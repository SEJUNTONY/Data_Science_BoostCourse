{
  "nbformat": 4,
  "nbformat_minor": 0,
  "metadata": {
    "colab": {
      "name": "4.1 파이썬 기본 연산과 자료형-input.ipynb의 사본",
      "provenance": [],
      "collapsed_sections": [
        "thxfIvC6u4Ga",
        "tMKs81M3sQ9e",
        "uQ0VMYAbu4Gi",
        "ZYBqz3-MsQ94",
        "-mqoFD_Bu4Gv",
        "x4H0bcnisQ-F",
        "Axqztu27sQ-N",
        "Cc2lnQWmsQ-U",
        "AAv0qz8gsQ-o",
        "uzFfT5GTu4Js"
      ]
    },
    "kernelspec": {
      "display_name": "Python 3",
      "language": "python",
      "name": "python3"
    },
    "language_info": {
      "codemirror_mode": {
        "name": "ipython",
        "version": 3
      },
      "file_extension": ".py",
      "mimetype": "text/x-python",
      "name": "python",
      "nbconvert_exporter": "python",
      "pygments_lexer": "ipython3",
      "version": "3.7.6"
    },
    "toc": {
      "base_numbering": 1,
      "nav_menu": {},
      "number_sections": true,
      "sideBar": true,
      "skip_h1_title": false,
      "title_cell": "Table of Contents",
      "title_sidebar": "Contents",
      "toc_cell": false,
      "toc_position": {},
      "toc_section_display": true,
      "toc_window_display": false
    },
    "varInspector": {
      "cols": {
        "lenName": 16,
        "lenType": 16,
        "lenVar": 40
      },
      "kernels_config": {
        "python": {
          "delete_cmd_postfix": "",
          "delete_cmd_prefix": "del ",
          "library": "var_list.py",
          "varRefreshCmd": "print(var_dic_list())"
        },
        "r": {
          "delete_cmd_postfix": ") ",
          "delete_cmd_prefix": "rm(",
          "library": "var_list.r",
          "varRefreshCmd": "cat(var_dic_list()) "
        }
      },
      "types_to_exclude": [
        "module",
        "function",
        "builtin_function_or_method",
        "instance",
        "_Feature"
      ],
      "window_display": false
    }
  },
  "cells": [
    {
      "cell_type": "markdown",
      "metadata": {
        "id": "h63gKkC2u4F8"
      },
      "source": [
        "* 파이썬 공식 튜토리얼 : \n",
        "    * 영문 : https://docs.python.org/3/tutorial/introduction.html\n",
        "    * 한글 : https://docs.python.org/ko/3/tutorial/index.html\n",
        "\n",
        "\n",
        "## Zen of Python\n",
        "* 파이썬의 철학이 잘 담겨있는 Zen of Python 을 출력해 봅니다.\n",
        "    * \"아름다운 게 추한 것보다 낫다.\" (Beautiful is better than ugly)\n",
        "    * \"명시적인 것이 암시적인 것 보다 낫다.\" (Explicit is better than implicit)\n",
        "    * \"단순함이 복잡함보다 낫다.\" (Simple is better than complex)\n",
        "    * \"복잡함이 난해한 것보다 낫다.\" (Complex is better than complicated)\n",
        "    * \"가독성은 중요하다.\" (Readability counts)\n",
        "    \n",
        "* import를 통해 파이썬의 라이브러리나 패키지를 가져올 수 있습니다."
      ]
    },
    {
      "cell_type": "code",
      "metadata": {
        "id": "PxUHokR8sQ8q",
        "colab": {
          "base_uri": "https://localhost:8080/"
        },
        "outputId": "fa5c8bde-4806-4cde-dc6a-633d6110170f"
      },
      "source": [
        "# import this를 출력해 봅니다.\n",
        "import this"
      ],
      "execution_count": null,
      "outputs": [
        {
          "output_type": "stream",
          "text": [
            "The Zen of Python, by Tim Peters\n",
            "\n",
            "Beautiful is better than ugly.\n",
            "Explicit is better than implicit.\n",
            "Simple is better than complex.\n",
            "Complex is better than complicated.\n",
            "Flat is better than nested.\n",
            "Sparse is better than dense.\n",
            "Readability counts.\n",
            "Special cases aren't special enough to break the rules.\n",
            "Although practicality beats purity.\n",
            "Errors should never pass silently.\n",
            "Unless explicitly silenced.\n",
            "In the face of ambiguity, refuse the temptation to guess.\n",
            "There should be one-- and preferably only one --obvious way to do it.\n",
            "Although that way may not be obvious at first unless you're Dutch.\n",
            "Now is better than never.\n",
            "Although never is often better than *right* now.\n",
            "If the implementation is hard to explain, it's a bad idea.\n",
            "If the implementation is easy to explain, it may be a good idea.\n",
            "Namespaces are one honking great idea -- let's do more of those!\n"
          ],
          "name": "stdout"
        }
      ]
    },
    {
      "cell_type": "markdown",
      "metadata": {
        "id": "8ktrlrLmPtb8"
      },
      "source": [
        "## 숫자\n",
        "* https://docs.python.org/ko/3/tutorial/introduction.html#numbers"
      ]
    },
    {
      "cell_type": "code",
      "metadata": {
        "scrolled": true,
        "id": "deUTfObQPtb-",
        "colab": {
          "base_uri": "https://localhost:8080/"
        },
        "outputId": "a7c31425-dfb4-4f25-cffa-4936e8b1a570"
      },
      "source": [
        "# 정수 1을 출력해 봅니다.\n",
        "1"
      ],
      "execution_count": null,
      "outputs": [
        {
          "output_type": "execute_result",
          "data": {
            "text/plain": [
              "1"
            ]
          },
          "metadata": {
            "tags": []
          },
          "execution_count": 2
        }
      ]
    },
    {
      "cell_type": "code",
      "metadata": {
        "id": "6fv9F796Ptb_",
        "colab": {
          "base_uri": "https://localhost:8080/"
        },
        "outputId": "b18d9a91-2dc5-4203-8894-61d0c9160e04"
      },
      "source": [
        "# 실수 1을 출력해 봅니다.\n",
        "1.0"
      ],
      "execution_count": null,
      "outputs": [
        {
          "output_type": "execute_result",
          "data": {
            "text/plain": [
              "1.0"
            ]
          },
          "metadata": {
            "tags": []
          },
          "execution_count": 3
        }
      ]
    },
    {
      "cell_type": "code",
      "metadata": {
        "id": "_pTIPrZQPtcA",
        "colab": {
          "base_uri": "https://localhost:8080/"
        },
        "outputId": "053a7312-645f-4284-a47f-c48abb541ed2"
      },
      "source": [
        "# 정수 1의 타입을 출력해 봅니다.\n",
        "type(1)"
      ],
      "execution_count": null,
      "outputs": [
        {
          "output_type": "execute_result",
          "data": {
            "text/plain": [
              "int"
            ]
          },
          "metadata": {
            "tags": []
          },
          "execution_count": 4
        }
      ]
    },
    {
      "cell_type": "code",
      "metadata": {
        "id": "uNHzoI_MPtcB",
        "colab": {
          "base_uri": "https://localhost:8080/"
        },
        "outputId": "9197b381-d014-4604-c6f1-2f349522f722"
      },
      "source": [
        "# 실수 1의 타입을 출력해 봅니다.\n",
        "type(1.0)"
      ],
      "execution_count": null,
      "outputs": [
        {
          "output_type": "execute_result",
          "data": {
            "text/plain": [
              "float"
            ]
          },
          "metadata": {
            "tags": []
          },
          "execution_count": 5
        }
      ]
    },
    {
      "cell_type": "markdown",
      "metadata": {
        "id": "CcSR52JwPtcC"
      },
      "source": [
        "## 사칙연산"
      ]
    },
    {
      "cell_type": "code",
      "metadata": {
        "id": "OTUaGazgPtcE",
        "colab": {
          "base_uri": "https://localhost:8080/"
        },
        "outputId": "84aba254-d229-4a48-e547-01717f708cdb"
      },
      "source": [
        "# 더하기\n",
        "1 + 2"
      ],
      "execution_count": null,
      "outputs": [
        {
          "output_type": "execute_result",
          "data": {
            "text/plain": [
              "3"
            ]
          },
          "metadata": {
            "tags": []
          },
          "execution_count": 6
        }
      ]
    },
    {
      "cell_type": "code",
      "metadata": {
        "id": "tuSwfwfNPtcF",
        "colab": {
          "base_uri": "https://localhost:8080/"
        },
        "outputId": "17487515-3bb9-45ff-dc1e-3a04833b1b33"
      },
      "source": [
        "# 빼기\n",
        "3 - 2"
      ],
      "execution_count": null,
      "outputs": [
        {
          "output_type": "execute_result",
          "data": {
            "text/plain": [
              "1"
            ]
          },
          "metadata": {
            "tags": []
          },
          "execution_count": 7
        }
      ]
    },
    {
      "cell_type": "code",
      "metadata": {
        "id": "SIrmsm2LPtcG",
        "colab": {
          "base_uri": "https://localhost:8080/"
        },
        "outputId": "625e21ae-ef8b-4064-bd14-a48553b330c5"
      },
      "source": [
        "# 곱하기\n",
        "2 * 3"
      ],
      "execution_count": null,
      "outputs": [
        {
          "output_type": "execute_result",
          "data": {
            "text/plain": [
              "6"
            ]
          },
          "metadata": {
            "tags": []
          },
          "execution_count": 8
        }
      ]
    },
    {
      "cell_type": "code",
      "metadata": {
        "id": "tp0wSGH5PtcG",
        "colab": {
          "base_uri": "https://localhost:8080/"
        },
        "outputId": "77b40871-db4f-40d8-f8df-e1547effb6a7"
      },
      "source": [
        "# 나누기\n",
        "3 / 2"
      ],
      "execution_count": null,
      "outputs": [
        {
          "output_type": "execute_result",
          "data": {
            "text/plain": [
              "1.5"
            ]
          },
          "metadata": {
            "tags": []
          },
          "execution_count": 9
        }
      ]
    },
    {
      "cell_type": "code",
      "metadata": {
        "id": "3IuvegIWPtcH",
        "colab": {
          "base_uri": "https://localhost:8080/"
        },
        "outputId": "788778da-9a65-4f83-d03b-15833802c5be"
      },
      "source": [
        "# 나누기 후 몫만 반환\n",
        "3 // 2"
      ],
      "execution_count": null,
      "outputs": [
        {
          "output_type": "execute_result",
          "data": {
            "text/plain": [
              "1"
            ]
          },
          "metadata": {
            "tags": []
          },
          "execution_count": 10
        }
      ]
    },
    {
      "cell_type": "code",
      "metadata": {
        "id": "DwBIdiIRPtcH",
        "colab": {
          "base_uri": "https://localhost:8080/"
        },
        "outputId": "4109363b-2ad1-476a-e2c1-ee9636951353"
      },
      "source": [
        "# 나누기 후 나머지만 반환\n",
        "3 % 2"
      ],
      "execution_count": null,
      "outputs": [
        {
          "output_type": "execute_result",
          "data": {
            "text/plain": [
              "1"
            ]
          },
          "metadata": {
            "tags": []
          },
          "execution_count": 11
        }
      ]
    },
    {
      "cell_type": "markdown",
      "metadata": {
        "id": "K9TY9hhvPtcI"
      },
      "source": [
        "## 변수\n",
        "* 변수명은 숫자로 시작할 수 없습니다.\n",
        "* 변수명은 언더바(_)를 제외한 특수문자를 사용할 수 없습니다.\n",
        "\n",
        "```\n",
        "---------------------------------------------------------------------------\n",
        "NameError                                 Traceback (most recent call last)\n",
        "<ipython-input-26-ab0680a89434> in <module>\n",
        "----> 1 n\n",
        "\n",
        "NameError: name 'n' is not defined\n",
        "\n",
        "```"
      ]
    },
    {
      "cell_type": "code",
      "metadata": {
        "id": "eY-zZceSPtcI",
        "colab": {
          "base_uri": "https://localhost:8080/",
          "height": 195
        },
        "outputId": "2d1a50f9-93a4-44bb-a81d-2d92e9ad866b"
      },
      "source": [
        "# 정의되지 않은 변수를 출력해 보면 어떤 오류 메시지가 나오는지 확인해 봅니다.\n",
        "n"
      ],
      "execution_count": null,
      "outputs": [
        {
          "output_type": "error",
          "ename": "NameError",
          "evalue": "ignored",
          "traceback": [
            "\u001b[0;31m---------------------------------------------------------------------------\u001b[0m",
            "\u001b[0;31mNameError\u001b[0m                                 Traceback (most recent call last)",
            "\u001b[0;32m<ipython-input-12-511e6ccb3aba>\u001b[0m in \u001b[0;36m<module>\u001b[0;34m()\u001b[0m\n\u001b[1;32m      1\u001b[0m \u001b[0;31m# 정의되지 않은 변수를 출력해 보면 어떤 오류 메시지가 나오는지 확인해 봅니다.\u001b[0m\u001b[0;34m\u001b[0m\u001b[0;34m\u001b[0m\u001b[0;34m\u001b[0m\u001b[0m\n\u001b[0;32m----> 2\u001b[0;31m \u001b[0mn\u001b[0m\u001b[0;34m\u001b[0m\u001b[0;34m\u001b[0m\u001b[0m\n\u001b[0m",
            "\u001b[0;31mNameError\u001b[0m: name 'n' is not defined"
          ]
        }
      ]
    },
    {
      "cell_type": "markdown",
      "metadata": {
        "id": "JOqRCUgvPtcJ"
      },
      "source": [
        "## 응용\n",
        "* 변수에 값을 할당하고 면적을 구해 봅니다."
      ]
    },
    {
      "cell_type": "code",
      "metadata": {
        "id": "Mxj0D6C4PtcK",
        "colab": {
          "base_uri": "https://localhost:8080/"
        },
        "outputId": "0ac13e3b-27e5-431d-9484-dbb8a116fa02"
      },
      "source": [
        "width = 20\n",
        "height = 5\n",
        "\n",
        "width * height"
      ],
      "execution_count": null,
      "outputs": [
        {
          "output_type": "execute_result",
          "data": {
            "text/plain": [
              "100"
            ]
          },
          "metadata": {
            "tags": []
          },
          "execution_count": 15
        }
      ]
    },
    {
      "cell_type": "markdown",
      "metadata": {
        "id": "crSUpif2PtcL"
      },
      "source": [
        "## 문자열\n",
        "* https://docs.python.org/ko/3/tutorial/introduction.html#strings\n",
        "### 문자열 정의"
      ]
    },
    {
      "cell_type": "code",
      "metadata": {
        "id": "bHpHPXl9PtcM",
        "colab": {
          "base_uri": "https://localhost:8080/",
          "height": 36
        },
        "outputId": "025d8271-5305-48c8-e4da-960c662f3565"
      },
      "source": [
        "# 큰따옴표로 문자열을 정의합니다.\n",
        "\"파이썬\""
      ],
      "execution_count": null,
      "outputs": [
        {
          "output_type": "execute_result",
          "data": {
            "application/vnd.google.colaboratory.intrinsic+json": {
              "type": "string"
            },
            "text/plain": [
              "'파이썬'"
            ]
          },
          "metadata": {
            "tags": []
          },
          "execution_count": 16
        }
      ]
    },
    {
      "cell_type": "code",
      "metadata": {
        "id": "20N0IP-yPtcO",
        "colab": {
          "base_uri": "https://localhost:8080/",
          "height": 36
        },
        "outputId": "9bb99f12-d9f6-4f54-81bf-eac218cfbe3a"
      },
      "source": [
        "# 작은따옴표로 문자열을 정의합니다.\n",
        "'파이썬'"
      ],
      "execution_count": null,
      "outputs": [
        {
          "output_type": "execute_result",
          "data": {
            "application/vnd.google.colaboratory.intrinsic+json": {
              "type": "string"
            },
            "text/plain": [
              "'파이썬'"
            ]
          },
          "metadata": {
            "tags": []
          },
          "execution_count": 17
        }
      ]
    },
    {
      "cell_type": "code",
      "metadata": {
        "id": "pj8O3PFePtcP",
        "colab": {
          "base_uri": "https://localhost:8080/",
          "height": 36
        },
        "outputId": "b795c347-5d45-441e-8378-580f0cc14435"
      },
      "source": [
        "# 큰따옴표와 작은따옴표의 차이를 알아봅니다.\n",
        "\"파이썬's\""
      ],
      "execution_count": null,
      "outputs": [
        {
          "output_type": "execute_result",
          "data": {
            "application/vnd.google.colaboratory.intrinsic+json": {
              "type": "string"
            },
            "text/plain": [
              "\"파이썬's\""
            ]
          },
          "metadata": {
            "tags": []
          },
          "execution_count": 20
        }
      ]
    },
    {
      "cell_type": "code",
      "metadata": {
        "id": "nezMs1K4PtcQ",
        "colab": {
          "base_uri": "https://localhost:8080/",
          "height": 36
        },
        "outputId": "4499f098-27dd-4326-d559-772d22b15688"
      },
      "source": [
        "# 줄바꿈 문자를 표현합니다.\n",
        "\"\"\"\n",
        "줄바꿈\n",
        "표현합니다.\n",
        "\"\"\""
      ],
      "execution_count": null,
      "outputs": [
        {
          "output_type": "execute_result",
          "data": {
            "application/vnd.google.colaboratory.intrinsic+json": {
              "type": "string"
            },
            "text/plain": [
              "'\\n줄바꿈\\n표현합니다.\\n'"
            ]
          },
          "metadata": {
            "tags": []
          },
          "execution_count": 21
        }
      ]
    },
    {
      "cell_type": "code",
      "metadata": {
        "id": "RkSQc2e2PtcR",
        "colab": {
          "base_uri": "https://localhost:8080/",
          "height": 36
        },
        "outputId": "e57921d5-8784-4828-c928-6ccd3e178fed"
      },
      "source": [
        "# *를 통해 문자를 반복 출력합니다.\n",
        "\"-\" * 20"
      ],
      "execution_count": null,
      "outputs": [
        {
          "output_type": "execute_result",
          "data": {
            "application/vnd.google.colaboratory.intrinsic+json": {
              "type": "string"
            },
            "text/plain": [
              "'--------------------'"
            ]
          },
          "metadata": {
            "tags": []
          },
          "execution_count": 24
        }
      ]
    },
    {
      "cell_type": "markdown",
      "metadata": {
        "id": "P4wqe8hvPtcR"
      },
      "source": [
        "### 문자열 인덱싱\n",
        "\n",
        "\n",
        "```\n",
        " +---+---+---+---+---+---+\n",
        " | P | y | t | h | o | n |\n",
        " +---+---+---+---+---+---+\n",
        " 0   1   2   3   4   5   6\n",
        "-6  -5  -4  -3  -2  -1\n",
        "```"
      ]
    },
    {
      "cell_type": "code",
      "metadata": {
        "id": "m68iAuUcPtcR",
        "colab": {
          "base_uri": "https://localhost:8080/",
          "height": 36
        },
        "outputId": "37fc2ad5-2dfb-497c-cdfe-97fa7e2ef18c"
      },
      "source": [
        "# 변수에 담긴 문자열의 위치를 알아봅니다.\n",
        "word = \"Python's hobby?\"\n",
        "word"
      ],
      "execution_count": null,
      "outputs": [
        {
          "output_type": "execute_result",
          "data": {
            "application/vnd.google.colaboratory.intrinsic+json": {
              "type": "string"
            },
            "text/plain": [
              "\"Python's hobby?\""
            ]
          },
          "metadata": {
            "tags": []
          },
          "execution_count": 25
        }
      ]
    },
    {
      "cell_type": "code",
      "metadata": {
        "id": "ZmEkeyGrPtcS",
        "colab": {
          "base_uri": "https://localhost:8080/",
          "height": 36
        },
        "outputId": "4739fea6-b6ca-4ca9-d22e-e2923d77fc95"
      },
      "source": [
        "# 0번 인덱스의 원소를 가져옵니다.\n",
        "word[0]"
      ],
      "execution_count": null,
      "outputs": [
        {
          "output_type": "execute_result",
          "data": {
            "application/vnd.google.colaboratory.intrinsic+json": {
              "type": "string"
            },
            "text/plain": [
              "'P'"
            ]
          },
          "metadata": {
            "tags": []
          },
          "execution_count": 26
        }
      ]
    },
    {
      "cell_type": "code",
      "metadata": {
        "id": "jrYV8fVzPtcS",
        "colab": {
          "base_uri": "https://localhost:8080/",
          "height": 36
        },
        "outputId": "a298e295-419c-4d6d-ef49-f6f9e7525984"
      },
      "source": [
        "# 1번 인덱스의 원소를 가져옵니다.\n",
        "word[1]"
      ],
      "execution_count": null,
      "outputs": [
        {
          "output_type": "execute_result",
          "data": {
            "application/vnd.google.colaboratory.intrinsic+json": {
              "type": "string"
            },
            "text/plain": [
              "'y'"
            ]
          },
          "metadata": {
            "tags": []
          },
          "execution_count": 27
        }
      ]
    },
    {
      "cell_type": "code",
      "metadata": {
        "id": "_vbN1XDPPtcS",
        "colab": {
          "base_uri": "https://localhost:8080/",
          "height": 36
        },
        "outputId": "5863c54d-8b35-408f-ee82-2790277d54fe"
      },
      "source": [
        "# 마지막 인덱스의 원소를 가져옵니다.\n",
        "word[-2]"
      ],
      "execution_count": null,
      "outputs": [
        {
          "output_type": "execute_result",
          "data": {
            "application/vnd.google.colaboratory.intrinsic+json": {
              "type": "string"
            },
            "text/plain": [
              "'y'"
            ]
          },
          "metadata": {
            "tags": []
          },
          "execution_count": 30
        }
      ]
    },
    {
      "cell_type": "markdown",
      "metadata": {
        "id": "LFkKTP4rPtcS"
      },
      "source": [
        "### 문자열 슬라이싱"
      ]
    },
    {
      "cell_type": "code",
      "metadata": {
        "id": "fFlCG6RCPtcS",
        "colab": {
          "base_uri": "https://localhost:8080/",
          "height": 36
        },
        "outputId": "63048fa7-4751-4964-cf86-94d405dde2e4"
      },
      "source": [
        "# [시작인덱스:끝나는인덱스+1] 로 문자열의 일부를 가져옵니다.\n",
        "# 앞에서 6개 글자만 가져옵니다.\n",
        "word[0:6]"
      ],
      "execution_count": null,
      "outputs": [
        {
          "output_type": "execute_result",
          "data": {
            "application/vnd.google.colaboratory.intrinsic+json": {
              "type": "string"
            },
            "text/plain": [
              "'Python'"
            ]
          },
          "metadata": {
            "tags": []
          },
          "execution_count": 31
        }
      ]
    },
    {
      "cell_type": "code",
      "metadata": {
        "id": "ETf7lEODPtcS",
        "colab": {
          "base_uri": "https://localhost:8080/",
          "height": 36
        },
        "outputId": "9d8cc961-976a-495a-e356-280da153bb9c"
      },
      "source": [
        "# 뒤에서 6개 글자만 가져옵니다.\n",
        "word[-6:]"
      ],
      "execution_count": null,
      "outputs": [
        {
          "output_type": "execute_result",
          "data": {
            "application/vnd.google.colaboratory.intrinsic+json": {
              "type": "string"
            },
            "text/plain": [
              "'hobby?'"
            ]
          },
          "metadata": {
            "tags": []
          },
          "execution_count": 32
        }
      ]
    },
    {
      "cell_type": "code",
      "metadata": {
        "id": "XOTJ6DCCPtcT",
        "colab": {
          "base_uri": "https://localhost:8080/",
          "height": 36
        },
        "outputId": "5f77234e-e91f-44d4-d451-3ffeb0f06e8a"
      },
      "source": [
        "# 2번 인덱스부터 4개의 글자만 가져옵니다.\n",
        "word[2:6]"
      ],
      "execution_count": null,
      "outputs": [
        {
          "output_type": "execute_result",
          "data": {
            "application/vnd.google.colaboratory.intrinsic+json": {
              "type": "string"
            },
            "text/plain": [
              "'thon'"
            ]
          },
          "metadata": {
            "tags": []
          },
          "execution_count": 34
        }
      ]
    },
    {
      "cell_type": "markdown",
      "metadata": {
        "id": "LrFjXzpaPtcT"
      },
      "source": [
        "### 문자열 함수\n",
        "* https://docs.python.org/ko/3/library/stdtypes.html#string-methods"
      ]
    },
    {
      "cell_type": "code",
      "metadata": {
        "id": "MwXpWCCKPtcT",
        "colab": {
          "base_uri": "https://localhost:8080/",
          "height": 38
        },
        "outputId": "fd5462da-4f70-4678-c7fa-0960f04c391d"
      },
      "source": [
        "# 소문자로 변환합니다.\n",
        "word.lower()"
      ],
      "execution_count": null,
      "outputs": [
        {
          "output_type": "execute_result",
          "data": {
            "application/vnd.google.colaboratory.intrinsic+json": {
              "type": "string"
            },
            "text/plain": [
              "\"python's hobby?\""
            ]
          },
          "metadata": {
            "tags": []
          },
          "execution_count": 41
        }
      ]
    },
    {
      "cell_type": "code",
      "metadata": {
        "id": "qdC-XYNYPtcT",
        "colab": {
          "base_uri": "https://localhost:8080/",
          "height": 38
        },
        "outputId": "5bbcf3f1-f2c9-47ea-f248-4e162a6fd644"
      },
      "source": [
        "# 대문자로 변환합니다.\n",
        "word.upper()"
      ],
      "execution_count": null,
      "outputs": [
        {
          "output_type": "execute_result",
          "data": {
            "application/vnd.google.colaboratory.intrinsic+json": {
              "type": "string"
            },
            "text/plain": [
              "\"PYTHON'S HOBBY?\""
            ]
          },
          "metadata": {
            "tags": []
          },
          "execution_count": 42
        }
      ]
    },
    {
      "cell_type": "markdown",
      "metadata": {
        "id": "vT48hpxoPtcT"
      },
      "source": [
        "## 리스트\n",
        "* https://docs.python.org/ko/3/tutorial/introduction.html#lists"
      ]
    },
    {
      "cell_type": "code",
      "metadata": {
        "id": "_TY13Q4DPtcT",
        "colab": {
          "base_uri": "https://localhost:8080/"
        },
        "outputId": "d7a490c7-cd63-47ef-8572-8753fa1a5dda"
      },
      "source": [
        "# 리스트 값을 생성합니다.\n",
        "squares = [1, 4, 9, 16, 25]\n",
        "squares"
      ],
      "execution_count": null,
      "outputs": [
        {
          "output_type": "execute_result",
          "data": {
            "text/plain": [
              "[1, 4, 9, 16, 25]"
            ]
          },
          "metadata": {
            "tags": []
          },
          "execution_count": 43
        }
      ]
    },
    {
      "cell_type": "markdown",
      "metadata": {
        "id": "1DhYYdimPtcU"
      },
      "source": [
        "### 리스트 인덱싱"
      ]
    },
    {
      "cell_type": "code",
      "metadata": {
        "id": "pbTrz9OePtcU",
        "colab": {
          "base_uri": "https://localhost:8080/"
        },
        "outputId": "67dc5636-14ab-4a8b-da1a-680b158b4ed9"
      },
      "source": [
        "# 인덱스 번호는 0부터 시작합니다. 0번 인덱스를 가져옵니다.\n",
        "squares[0]"
      ],
      "execution_count": null,
      "outputs": [
        {
          "output_type": "execute_result",
          "data": {
            "text/plain": [
              "1"
            ]
          },
          "metadata": {
            "tags": []
          },
          "execution_count": 44
        }
      ]
    },
    {
      "cell_type": "code",
      "metadata": {
        "id": "VS5gsZupPtcU",
        "colab": {
          "base_uri": "https://localhost:8080/"
        },
        "outputId": "e0db88a9-ae25-40a8-b2bb-30a59f006606"
      },
      "source": [
        "# 마지막 인덱스는 -1 로 가져올 수 있습니다.\n",
        "squares[-1]"
      ],
      "execution_count": null,
      "outputs": [
        {
          "output_type": "execute_result",
          "data": {
            "text/plain": [
              "25"
            ]
          },
          "metadata": {
            "tags": []
          },
          "execution_count": 45
        }
      ]
    },
    {
      "cell_type": "code",
      "metadata": {
        "id": "-X8zqVl5PtcU",
        "colab": {
          "base_uri": "https://localhost:8080/"
        },
        "outputId": "3dc7a854-672b-4709-f982-c1e449d55cba"
      },
      "source": [
        "# 뒤에서 3번째 값을 가져옵니다.\n",
        "squares[-3]"
      ],
      "execution_count": null,
      "outputs": [
        {
          "output_type": "execute_result",
          "data": {
            "text/plain": [
              "9"
            ]
          },
          "metadata": {
            "tags": []
          },
          "execution_count": 46
        }
      ]
    },
    {
      "cell_type": "markdown",
      "metadata": {
        "id": "xu4HVsJ6PtcU"
      },
      "source": [
        "### 리스트 슬라이싱"
      ]
    },
    {
      "cell_type": "code",
      "metadata": {
        "id": "wYtHgJv-PtcU",
        "colab": {
          "base_uri": "https://localhost:8080/"
        },
        "outputId": "6d49d2e4-0de7-4dac-ef65-d293b35a3803"
      },
      "source": [
        "# [시작인덱스:끝나는인덱스+1]\n",
        "squares[0:3]"
      ],
      "execution_count": null,
      "outputs": [
        {
          "output_type": "execute_result",
          "data": {
            "text/plain": [
              "[1, 4, 9]"
            ]
          },
          "metadata": {
            "tags": []
          },
          "execution_count": 47
        }
      ]
    },
    {
      "cell_type": "markdown",
      "metadata": {
        "id": "YcdxLnl5PtcU"
      },
      "source": [
        "### 리스트의 함수"
      ]
    },
    {
      "cell_type": "code",
      "metadata": {
        "id": "9igPImGmPtcV",
        "colab": {
          "base_uri": "https://localhost:8080/"
        },
        "outputId": "e6fea5fc-e1db-4cef-95bb-de07bf07ad38"
      },
      "source": [
        "# append로 값을 추가합니다.\n",
        "squares.append(36)\n",
        "squares"
      ],
      "execution_count": null,
      "outputs": [
        {
          "output_type": "execute_result",
          "data": {
            "text/plain": [
              "[1, 4, 9, 16, 25, 36]"
            ]
          },
          "metadata": {
            "tags": []
          },
          "execution_count": 48
        }
      ]
    },
    {
      "cell_type": "code",
      "metadata": {
        "id": "1-jhgVekPtcV",
        "colab": {
          "base_uri": "https://localhost:8080/"
        },
        "outputId": "9bee23a5-a66a-46b9-bd98-a47179e1172e"
      },
      "source": [
        "# remove로 값을 제거합니다.\n",
        "squares.remove(36)\n",
        "squares"
      ],
      "execution_count": null,
      "outputs": [
        {
          "output_type": "execute_result",
          "data": {
            "text/plain": [
              "[1, 4, 9, 16, 25]"
            ]
          },
          "metadata": {
            "tags": []
          },
          "execution_count": 49
        }
      ]
    },
    {
      "cell_type": "markdown",
      "metadata": {
        "id": "vpIoYfeQPtcV"
      },
      "source": [
        "## 딕셔너리\n",
        "* https://docs.python.org/ko/3/tutorial/datastructures.html#dictionaries"
      ]
    },
    {
      "cell_type": "code",
      "metadata": {
        "colab": {
          "base_uri": "https://localhost:8080/"
        },
        "id": "e43EMX7fX5p5",
        "outputId": "86f1c330-3c1c-4b37-f43d-ab429b482d84"
      },
      "source": [
        "type({})"
      ],
      "execution_count": null,
      "outputs": [
        {
          "output_type": "execute_result",
          "data": {
            "text/plain": [
              "dict"
            ]
          },
          "metadata": {
            "tags": []
          },
          "execution_count": 50
        }
      ]
    },
    {
      "cell_type": "code",
      "metadata": {
        "id": "otBQolBdPtcV",
        "colab": {
          "base_uri": "https://localhost:8080/"
        },
        "outputId": "5e62fef3-0cf5-48a7-9de2-b59e109c19bb"
      },
      "source": [
        "# {키:값} 형식으로 되어 있습니다.\n",
        "# 딕셔너리를 정의합니다.\n",
        "# 재고라는 이름을 갖는 변수에 고구마, 감자, 쪽파의 수량을 표시해 봅니다.\n",
        "재고 = {'고구마': 4139, '감자': 4098, '쪽파': 100}\n",
        "재고"
      ],
      "execution_count": null,
      "outputs": [
        {
          "output_type": "execute_result",
          "data": {
            "text/plain": [
              "{'감자': 4098, '고구마': 4139, '쪽파': 100}"
            ]
          },
          "metadata": {
            "tags": []
          },
          "execution_count": 2
        }
      ]
    },
    {
      "cell_type": "code",
      "metadata": {
        "scrolled": true,
        "id": "94qSmdaRPtcV",
        "colab": {
          "base_uri": "https://localhost:8080/"
        },
        "outputId": "6d3bf972-3ebd-45df-ca26-019c8bc66d31"
      },
      "source": [
        "# 재고에 대파를 추가해 봅니다.\n",
        "재고[\"대파\"]= 345\n",
        "재고"
      ],
      "execution_count": null,
      "outputs": [
        {
          "output_type": "execute_result",
          "data": {
            "text/plain": [
              "{'감자': 4098, '고구마': 4139, '대파': 345, '쪽파': 100}"
            ]
          },
          "metadata": {
            "tags": []
          },
          "execution_count": 3
        }
      ]
    },
    {
      "cell_type": "code",
      "metadata": {
        "id": "oAp6rKX3PtcV",
        "colab": {
          "base_uri": "https://localhost:8080/"
        },
        "outputId": "fadfc3d6-2743-4576-df33-2108711e18eb"
      },
      "source": [
        "# 키를 통해 \"대파\"의 값을 가져옵니다.\n",
        "재고[\"대파\"]"
      ],
      "execution_count": null,
      "outputs": [
        {
          "output_type": "execute_result",
          "data": {
            "text/plain": [
              "345"
            ]
          },
          "metadata": {
            "tags": []
          },
          "execution_count": 4
        }
      ]
    },
    {
      "cell_type": "code",
      "metadata": {
        "id": "FnBncnqWPtcV"
      },
      "source": [
        "# \"양파\" 도 추가해 봅니다.\n",
        "재고[\"양파\"]=643"
      ],
      "execution_count": null,
      "outputs": []
    },
    {
      "cell_type": "code",
      "metadata": {
        "id": "f2L5FuTaPtcV"
      },
      "source": [
        "# del을 통해 값을 제거할 수 있습니다.\n",
        "del 재고[\"양파\"]"
      ],
      "execution_count": null,
      "outputs": []
    },
    {
      "cell_type": "code",
      "metadata": {
        "id": "O8S_r7pLPtcV",
        "colab": {
          "base_uri": "https://localhost:8080/"
        },
        "outputId": "29b63d5f-ddad-41d5-a0d5-ecba9514eb74"
      },
      "source": [
        "# 값이 잘 제거되었는지 확인합니다.\n",
        "재고"
      ],
      "execution_count": null,
      "outputs": [
        {
          "output_type": "execute_result",
          "data": {
            "text/plain": [
              "{'감자': 4098, '고구마': 4139, '대파': 345, '쪽파': 100}"
            ]
          },
          "metadata": {
            "tags": []
          },
          "execution_count": 7
        }
      ]
    },
    {
      "cell_type": "code",
      "metadata": {
        "id": "KHXmPGDdPtcW",
        "colab": {
          "base_uri": "https://localhost:8080/"
        },
        "outputId": "3553a975-1dc7-4ec7-a287-33316e5c0743"
      },
      "source": [
        "# dict를 list로 반환합니다. 이 때 키값을 가져와 리스트로 생성합니다.\n",
        "list(재고)"
      ],
      "execution_count": null,
      "outputs": [
        {
          "output_type": "execute_result",
          "data": {
            "text/plain": [
              "['고구마', '감자', '쪽파', '대파']"
            ]
          },
          "metadata": {
            "tags": []
          },
          "execution_count": 8
        }
      ]
    },
    {
      "cell_type": "code",
      "metadata": {
        "id": "HSW9BWUMPtcW",
        "colab": {
          "base_uri": "https://localhost:8080/"
        },
        "outputId": "52f34578-c029-4e7f-e062-979ad7960e3e"
      },
      "source": [
        "# sorted를 사용해 재고 변수에 담긴 딕셔너리의 키값을 기준으로 정렬합니다.\n",
        "sorted(재고)"
      ],
      "execution_count": null,
      "outputs": [
        {
          "output_type": "execute_result",
          "data": {
            "text/plain": [
              "['감자', '고구마', '대파', '쪽파']"
            ]
          },
          "metadata": {
            "tags": []
          },
          "execution_count": 9
        }
      ]
    },
    {
      "cell_type": "code",
      "metadata": {
        "id": "sxEOws2xPtcW",
        "colab": {
          "base_uri": "https://localhost:8080/"
        },
        "outputId": "21407f9f-28a9-44cf-fa04-a2e7dc04f4dd"
      },
      "source": [
        "재고.keys()"
      ],
      "execution_count": null,
      "outputs": [
        {
          "output_type": "execute_result",
          "data": {
            "text/plain": [
              "dict_keys(['고구마', '감자', '쪽파', '대파'])"
            ]
          },
          "metadata": {
            "tags": []
          },
          "execution_count": 12
        }
      ]
    },
    {
      "cell_type": "code",
      "metadata": {
        "id": "tmKQM7kMCMEL",
        "colab": {
          "base_uri": "https://localhost:8080/",
          "height": 176
        },
        "outputId": "d4a366ea-d7b2-4f54-d8cb-c29240c393c5"
      },
      "source": [
        "재고.pop()"
      ],
      "execution_count": null,
      "outputs": [
        {
          "output_type": "error",
          "ename": "TypeError",
          "evalue": "ignored",
          "traceback": [
            "\u001b[0;31m---------------------------------------------------------------------------\u001b[0m",
            "\u001b[0;31mTypeError\u001b[0m                                 Traceback (most recent call last)",
            "\u001b[0;32m<ipython-input-14-30d8580fbe58>\u001b[0m in \u001b[0;36m<module>\u001b[0;34m()\u001b[0m\n\u001b[0;32m----> 1\u001b[0;31m \u001b[0m재고\u001b[0m\u001b[0;34m.\u001b[0m\u001b[0mpop\u001b[0m\u001b[0;34m(\u001b[0m\u001b[0;34m)\u001b[0m\u001b[0;34m\u001b[0m\u001b[0;34m\u001b[0m\u001b[0m\n\u001b[0m",
            "\u001b[0;31mTypeError\u001b[0m: pop expected at least 1 arguments, got 0"
          ]
        }
      ]
    }
  ]
}